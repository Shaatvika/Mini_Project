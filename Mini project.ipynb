{
 "cells": [
  {
   "cell_type": "code",
   "execution_count": null,
   "id": "cce3a153",
   "metadata": {},
   "outputs": [],
   "source": [
    "import streamlit as st"
   ]
  },
  {
   "cell_type": "code",
   "execution_count": null,
   "id": "46966e17",
   "metadata": {},
   "outputs": [],
   "source": [
    "#st.text_input(label, value=\"\", max_chars=None, key=None, type=\"default\", help=None, autocomplete=None, \n",
    "#on_change=None, args=None, kwargs=None, *, placeholder=None, disabled=False, label_visibility=\"visible\")\n",
    "\n",
    "st.text_input('Name',\"Enter your name\")"
   ]
  }
 ],
 "metadata": {
  "kernelspec": {
   "display_name": "Python 3 (ipykernel)",
   "language": "python",
   "name": "python3"
  },
  "language_info": {
   "codemirror_mode": {
    "name": "ipython",
    "version": 3
   },
   "file_extension": ".py",
   "mimetype": "text/x-python",
   "name": "python",
   "nbconvert_exporter": "python",
   "pygments_lexer": "ipython3",
   "version": "3.9.15"
  }
 },
 "nbformat": 4,
 "nbformat_minor": 5
}
